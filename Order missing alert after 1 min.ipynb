{
 "cells": [
  {
   "cell_type": "code",
   "execution_count": 22,
   "id": "0a232234",
   "metadata": {},
   "outputs": [],
   "source": [
    "#Import essential libraries\n",
    "\n",
    "import pandas as pd\n",
    "import time\n",
    "import os\n",
    "from datetime import datetime\n",
    "import playsound as ps\n",
    "from tkinter import messagebox \n",
    "from IPython.display import Audio"
   ]
  },
  {
   "cell_type": "code",
   "execution_count": 23,
   "id": "a6e4e3de",
   "metadata": {},
   "outputs": [],
   "source": [
    "#Defining file Paths \n",
    "\n",
    "path = \"D:\\\\Read_afl\\\\\"\n",
    "alarm_path=\"C:\\\\Windows\\\\Media\\\\\""
   ]
  },
  {
   "cell_type": "code",
   "execution_count": 24,
   "id": "b5f18886",
   "metadata": {
    "scrolled": true
   },
   "outputs": [
    {
     "data": {
      "text/plain": [
       "'2024-01-21 15:06:54'"
      ]
     },
     "execution_count": 24,
     "metadata": {},
     "output_type": "execute_result"
    }
   ],
   "source": [
    "#Get Files last modified date and time\n",
    "\n",
    "m_time = os.path.getmtime(path + '\\\\bnsoi00.csv')\n",
    "\n",
    "file_mod_time = time.strftime('%Y-%m-%d %H:%M:%S', time.localtime(m_time))\n",
    "file_mod_time"
   ]
  },
  {
   "cell_type": "code",
   "execution_count": 25,
   "id": "58706280",
   "metadata": {},
   "outputs": [
    {
     "name": "stdout",
     "output_type": "stream",
     "text": [
      "1705829814.2584584\n",
      "2024-01-21 15:06:54\n"
     ]
    }
   ],
   "source": [
    "#Checking the time by printing\n",
    "\n",
    "print (m_time)\n",
    "print(file_mod_time)"
   ]
  },
  {
   "cell_type": "code",
   "execution_count": 26,
   "id": "3187417e",
   "metadata": {},
   "outputs": [
    {
     "data": {
      "text/plain": [
       "'2024-01-22 20:44:56'"
      ]
     },
     "execution_count": 26,
     "metadata": {},
     "output_type": "execute_result"
    }
   ],
   "source": [
    "#Get the current time \n",
    "\n",
    "dt = datetime.now()\n",
    "current_time=dt.strftime('%Y-%m-%d %H:%M:%S')\n",
    "current_time"
   ]
  },
  {
   "cell_type": "code",
   "execution_count": 27,
   "id": "f934c658",
   "metadata": {},
   "outputs": [],
   "source": [
    "#Changing the date and time format of file_mod_time and current time\n",
    "\n",
    "fmt = '%Y-%m-%d %H:%M:%S'\n",
    "d1 = datetime.strptime(current_time, fmt)\n",
    "d2 = datetime.strptime(file_mod_time, fmt)\n",
    "\n",
    "#finding the difference and converting it into seconds\n",
    "secs_diff = (d1-d2).total_seconds()"
   ]
  },
  {
   "cell_type": "code",
   "execution_count": 28,
   "id": "0a1e2522",
   "metadata": {
    "scrolled": true
   },
   "outputs": [
    {
     "data": {
      "text/plain": [
       "106682.0"
      ]
     },
     "execution_count": 28,
     "metadata": {},
     "output_type": "execute_result"
    }
   ],
   "source": [
    "#Printing the difference in seconds\n",
    "secs_diff"
   ]
  },
  {
   "cell_type": "code",
   "execution_count": 19,
   "id": "5ac82412",
   "metadata": {},
   "outputs": [
    {
     "name": "stdout",
     "output_type": "stream",
     "text": [
      "difference\n"
     ]
    }
   ],
   "source": [
    "# Fixing the tune\n",
    "tune=alarm_path+'chimes.wav'"
   ]
  },
  {
   "cell_type": "code",
   "execution_count": 29,
   "id": "e1a3ddf2",
   "metadata": {},
   "outputs": [
    {
     "name": "stdout",
     "output_type": "stream",
     "text": [
      "Please Place orders\n"
     ]
    }
   ],
   "source": [
    "#Comparing times to throw alert\n",
    "if (secs_diff > 60 ):\n",
    "    print('Please Place orders')\n",
    "    ps.playsound(alarm_path+'chimes.wav')\n",
    "    messagebox.showinfo(\"showinfo\", \"Information\") \n",
    "else:\n",
    "    print(\"No pending orders\")"
   ]
  },
  {
   "cell_type": "code",
   "execution_count": null,
   "id": "902c9ac4",
   "metadata": {},
   "outputs": [],
   "source": []
  }
 ],
 "metadata": {
  "kernelspec": {
   "display_name": "Python 3 (ipykernel)",
   "language": "python",
   "name": "python3"
  },
  "language_info": {
   "codemirror_mode": {
    "name": "ipython",
    "version": 3
   },
   "file_extension": ".py",
   "mimetype": "text/x-python",
   "name": "python",
   "nbconvert_exporter": "python",
   "pygments_lexer": "ipython3",
   "version": "3.9.12"
  }
 },
 "nbformat": 4,
 "nbformat_minor": 5
}
